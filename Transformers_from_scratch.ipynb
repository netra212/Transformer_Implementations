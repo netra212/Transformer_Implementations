{
 "cells": [
  {
   "cell_type": "code",
   "execution_count": null,
   "id": "124e6e00",
   "metadata": {},
   "outputs": [],
   "source": []
  },
  {
   "cell_type": "markdown",
   "id": "0b07508c",
   "metadata": {},
   "source": [
    "#### `Workflow`\n",
    "\n",
    "0. Import Important Libraries. \n"
   ]
  },
  {
   "cell_type": "markdown",
   "id": "b3bded98",
   "metadata": {},
   "source": [
    "### **`Import Important Libraries.`**"
   ]
  },
  {
   "cell_type": "code",
   "execution_count": null,
   "id": "d5d39fe8",
   "metadata": {},
   "outputs": [],
   "source": [
    "# all the important liberires from pytorch\n",
    "import torch\n",
    "import torch.nn as nn\n",
    "from torch.utils.data import Dataset,DataLoader, random_split\n",
    "from torch.utils.tensorboard import SummaryWriter"
   ]
  },
  {
   "cell_type": "code",
   "execution_count": null,
   "id": "17c86be5",
   "metadata": {},
   "outputs": [],
   "source": [
    "import math"
   ]
  },
  {
   "cell_type": "code",
   "execution_count": null,
   "id": "eeeb7308",
   "metadata": {},
   "outputs": [],
   "source": [
    "#HuggingFace linraries\n",
    "from datasets import load_dataset\n",
    "from tokenizers import Tokenizer\n",
    "from tokenizers.models import WordLevel\n",
    "from tokenizers.trainers import WordLevelTrainer\n",
    "from tokenizers.pre_tokenizers import Whitespace"
   ]
  },
  {
   "cell_type": "code",
   "execution_count": null,
   "id": "0a04d6fd",
   "metadata": {},
   "outputs": [],
   "source": [
    "#pathlib\n",
    "from pathlib import Path"
   ]
  },
  {
   "cell_type": "code",
   "execution_count": null,
   "id": "361c1a8d",
   "metadata": {},
   "outputs": [],
   "source": [
    "#typing\n",
    "from typing import Any"
   ]
  },
  {
   "cell_type": "code",
   "execution_count": null,
   "id": "441fe2a4",
   "metadata": {},
   "outputs": [],
   "source": [
    "#Library for progress bars in loops\n",
    "from tqdm import tqdm"
   ]
  },
  {
   "cell_type": "code",
   "execution_count": null,
   "id": "779f9173",
   "metadata": {},
   "outputs": [],
   "source": [
    "#importing library of warnings\n",
    "import warnings"
   ]
  }
 ],
 "metadata": {
  "kernelspec": {
   "display_name": "Python 3",
   "language": "python",
   "name": "python3"
  },
  "language_info": {
   "codemirror_mode": {
    "name": "ipython",
    "version": 3
   },
   "file_extension": ".py",
   "mimetype": "text/x-python",
   "name": "python",
   "nbconvert_exporter": "python",
   "pygments_lexer": "ipython3",
   "version": "3.11.13"
  }
 },
 "nbformat": 4,
 "nbformat_minor": 5
}
